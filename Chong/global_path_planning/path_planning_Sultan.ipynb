{
 "cells": [
  {
   "cell_type": "code",
   "execution_count": 1,
   "metadata": {
    "tags": []
   },
   "outputs": [],
   "source": [
    "# Importing the required libraries\n",
    "import numpy as np\n",
    "import random\n",
    "import matplotlib.pyplot as plt\n",
    "from matplotlib.animation import FuncAnimation\n",
    "seed=2 # seed for results reproducability for random map generation\n",
    "rng = np.random.default_rng(seed)\n"
   ]
  },
  {
   "cell_type": "code",
   "execution_count": 2,
   "metadata": {
    "tags": []
   },
   "outputs": [],
   "source": [
    "# import numpy as np\n",
    "# import matplotlib.pyplot as plt\n",
    "\n",
    "class MazeGenerator:\n",
    "    def __init__(self, width, height, density, rng):\n",
    "        self.width = width\n",
    "        self.height = height\n",
    "        self.density = density\n",
    "        self.seed = seed\n",
    "        self.grid = self.generate_random_maze()\n",
    "\n",
    "    def generate_random_maze(self):\n",
    "        maze = rng.choice([0, 1], size=(self.height, self.width), p=[1-self.density, self.density])\n",
    "        maze[0, 0] = 0  # Entrance\n",
    "        maze[-1, -1] = 0  # Exit\n",
    "        \n",
    "        \n",
    "   # Make the entrance and exit\n",
    "        # Generate a random path from entrance to exit using random walk\n",
    "        x, y = 0, 0\n",
    "        while (x, y) != (self.width - 1, self.height - 1):\n",
    "            directions = [(0, 1), (1, 0)]\n",
    "            random.shuffle(directions)\n",
    "            for dx, dy in directions:\n",
    "                nx, ny = x + dx, y + dy\n",
    "                if 0 <= nx < self.width and 0 <= ny < self.height:\n",
    "                    #maze[ny, nx] = 0\n",
    "                    x, y = nx, ny\n",
    "                    break        \n",
    "        \n",
    "        return maze\n",
    "\n",
    "    def display(self, start_pos, goal_pos, path=None):\n",
    "        plt.imshow(self.grid, cmap='binary')\n",
    "\n",
    "        # Mark the entrance and exit positions\n",
    "        plt.scatter(start_pos[1], start_pos[0], color='red', marker='o', s=50, label='Start')\n",
    "        plt.scatter(goal_pos[1], goal_pos[0], color='green', marker='o', s=50, label='Goal')\n",
    "\n",
    "        if path:\n",
    "            # Plot the learned path\n",
    "            path_x, path_y = zip(*path)\n",
    "            plt.plot(path_y, path_x, marker='o', color='blue', markersize=1, label='Learned Path')\n",
    "\n",
    "        plt.legend()\n",
    "        plt.show()\n",
    "\n",
    "\n",
    "\n",
    "\n",
    "\n"
   ]
  },
  {
   "cell_type": "code",
   "execution_count": 3,
   "metadata": {
    "tags": []
   },
   "outputs": [],
   "source": [
    "# Create a maze generator instance\n",
    "# Define the dimensions of the maze\n",
    "width = 16\n",
    "height = 16\n",
    "\n",
    "# Define the density of walls in the maze (between 0 and 1)\n",
    "density = 0.2\n",
    "maze_generator = MazeGenerator(width, height, density, rng)"
   ]
  },
  {
   "cell_type": "code",
   "execution_count": 4,
   "metadata": {
    "tags": []
   },
   "outputs": [
    {
     "data": {
      "image/png": "[encoded data removed]",
      "text/plain": [
       "<Figure size 640x480 with 1 Axes>"
      ]
     },
     "metadata": {},
     "output_type": "display_data"
    }
   ],
   "source": [
    "\n",
    "\n",
    "# Specify the starting and goal positions\n",
    "startPos = (0,0)\n",
    "goalPos = (0,height-1)\n",
    "\n",
    "# Display the generated maze as a figure with starting and goal positions\n",
    "maze_generator.display(startPos, goalPos)"
   ]
  },
  {
   "cell_type": "code",
   "execution_count": 5,
   "metadata": {
    "tags": []
   },
   "outputs": [],
   "source": [
    "# import numpy as np\n",
    "\n",
    "class QLearningMazeSolver:\n",
    "    def __init__(self, rng, maze, startPos, goalPos, alpha=0.1, gamma=1, epsilon=0.1, epochs=15000):\n",
    "        self.maze = maze\n",
    "        self.startPos = startPos\n",
    "        self.goalPos = goalPos\n",
    "        self.alpha = alpha  # Learning rate\n",
    "        self.gamma = gamma  # Discount factor\n",
    "        self.epsilon = epsilon  # Exploration rate\n",
    "        self.epochs = epochs  # Number of episodes\n",
    "        self.height, self.width = maze.shape  # Get maze dimensions\n",
    "        self.q_table = np.zeros((self.height, self.width, 4))  # Q-table: 4 possible actions (up, down, left, right)\n",
    "\n",
    "\n",
    "    def greedy_policy(self, state): # to find optimal path after TD estimation # also for greedy part of epsilon-greedy action\n",
    "        q_values = self.q_table[state[0], state[1]]\n",
    "        max_q_value = np.max(q_values)\n",
    "        # Find indices of actions with maximum Q-value\n",
    "        greedy_actions = [i for i, q_value in enumerate(\n",
    "            q_values) if q_value == max_q_value]\n",
    "        # If there are multiple greedy actions, randomly select one\n",
    "        action = rng.choice(greedy_actions)\n",
    "        #action = np.argmax(q_values)\n",
    "        return action\n",
    "\n",
    "    def eps_greedy_policy(self, state):\n",
    "        if rng.uniform(0, 1) < self.epsilon:\n",
    "            return rng.choice(np.arange(0, 4, 1))  # Random action (exploration)\n",
    "        else:\n",
    "            return self.greedy_policy(state)\n",
    "\n",
    "\n",
    "    def choose_action(self, state):\n",
    "        return self.eps_greedy_policy(state)\n",
    "\n",
    "    def update_q_table_QLearning(self, state, action, reward, next_state): # greedy \n",
    "        self.q_table[state[0], state[1], action] += self.alpha * (reward + self.gamma * np.max(self.q_table[next_state[0], next_state[1]]) - self.q_table[state[0], state[1], action])\n",
    "\n",
    "    def update_q_table_SARSA(self, state, action, reward, next_state, next_action): # behaviour policy # epsilon-greedy \n",
    "        self.q_table[state[0], state[1], action] += self.alpha * (reward + self.gamma * self.q_table[next_state[0], next_state[1], next_action] - self.q_table[state[0], state[1], action])\n",
    "\n",
    "    def update_q_table_nStep_SARSA(self, state, action, G): # behaviour policy # epsilon-greedy \n",
    "        self.q_table[state[0], state[1], action] += self.alpha * (G - self.q_table[state[0], state[1], action])\n",
    "\n",
    "    def solve_maze_QLearning(self):\n",
    "        episode_steps = []\n",
    "        for ep in range(self.epochs):\n",
    "            state = self.startPos\n",
    "            steps = 0  # Variable to store steps in current episode\n",
    "            while state != self.goalPos:\n",
    "                action = self.choose_action(state) # behavior policy # epsilon-greedy\n",
    "                next_state, reward = self.take_action(state, action) # will use greedy approach for Q value of next state\n",
    "                self.update_q_table_QLearning(state, action, reward, next_state)\n",
    "                state = next_state\n",
    "                steps = steps + 1\n",
    "            if ep % 100 == 0:\n",
    "                print(f'episod {ep}, steps {steps}')\n",
    "                # print('steps = {}'.format(steps))\n",
    "            episode_steps.append(steps)  # Save total steps for the current episode\n",
    "                \n",
    "        return episode_steps\n",
    "    \n",
    "    def solve_maze_SARSA(self):\n",
    "        episode_steps = []\n",
    "        for ep in range(self.epochs):\n",
    "            state = self.startPos\n",
    "            steps = 0  # Variable to store steps in current episode\n",
    "            while state != self.goalPos:\n",
    "                action = self.choose_action(state) # behavior policy # epsilon-greedy\n",
    "                next_state, reward = self.take_action(state, action) \n",
    "                next_action = self.choose_action(next_state) # using epsilon-greedy policy\n",
    "                self.update_q_table_SARSA(state, action, reward, next_state, next_action)\n",
    "                state = next_state\n",
    "                action = next_action\n",
    "                steps = steps + 1\n",
    "            if ep % 100 == 0:\n",
    "                print(f'episod {ep}, steps {steps}')\n",
    "                # print('steps = {}'.format(steps))\n",
    "            episode_steps.append(steps)  # Save total steps for the current episode\n",
    "                \n",
    "        return episode_steps\n",
    "        \n",
    "    ## n-step TD: SARSA\n",
    "    def solve_maze_nStep_SARSA(self, n=10): # n=10\n",
    "    # def solve_maze_n_step_SARSA(self, n):\n",
    "        episode_steps = []\n",
    "        for ep in range(self.epochs):\n",
    "            state = self.startPos\n",
    "            steps = 0  # Variable to store steps in current episode\n",
    "            episode_buffer = []  # Buffer to store state, action, reward tuples\n",
    "            while state != self.goalPos:\n",
    "                action = self.choose_action(state) # behavior policy # epsilon-greedy\n",
    "                next_state, reward = self.take_action(state, action) \n",
    "                episode_buffer.append((state, action, reward))  # Store current state, action, reward\n",
    "                if len(episode_buffer) >= n:  # Start updating after n steps\n",
    "                    # Calculate n-step return\n",
    "                    G = sum([episode_buffer[i][2] * (self.gamma ** i) for i in range(n)])\n",
    "                    # If not at terminal state, add estimated Q value for next state-action pair\n",
    "                    if next_state != self.goalPos:\n",
    "                        next_action = self.choose_action(next_state)  # using epsilon-greedy policy\n",
    "                        G += (self.gamma ** n) * self.q_table[next_state[0], next_state[1], next_action]\n",
    "                    # Update Q value for the state-action pair n steps ago\n",
    "                    old_state, old_action, _ = episode_buffer.pop(0)  # Remove oldest state-action-reward tuple # where we started\n",
    "                    self.update_q_table_nStep_SARSA(old_state, old_action, G)\n",
    "                state = next_state\n",
    "                steps += 1\n",
    "            if ep % 100 == 0:\n",
    "                print(f'episode {ep}, steps {steps}')\n",
    "            episode_steps.append(steps)  # Save total steps for the current episode\n",
    "        return episode_steps\n",
    "\n",
    "\n",
    "    def take_action(self, state, action):\n",
    "        actions = [(0, -1), (0, 1), (-1, 0), (1, 0)]  # Possible actions: up, down, left, right\n",
    "        next_state = (state[0] + actions[action][0], state[1] + actions[action][1])\n",
    "        \n",
    "        # Ensure next state is within grid boundaries\n",
    "        next_state = (max(0, min(self.height - 1, next_state[0])),\n",
    "                    max(0, min(self.width - 1, next_state[1])))        \n",
    "        \n",
    "        # If next position is a wall, keep the next state the same as the current state\n",
    "        if self.maze[next_state[0], next_state[1]] == 1:\n",
    "            next_state = state\n",
    "        \n",
    "        if next_state == self.goalPos:\n",
    "            reward = 10  # Reward: 10 for reaching the goal\n",
    "            done = True  # Episode terminates\n",
    "        else:\n",
    "            reward = -1  # Reward: -1 for every movement\n",
    "            done = False  # Episode continues\n",
    "        \n",
    "        return next_state, reward\n",
    "\n",
    "\n",
    "    def get_path(self):\n",
    "        path = [self.startPos]\n",
    "        state = self.startPos\n",
    "        while state != self.goalPos:\n",
    "            next_state, _ = self.take_action(state, self.greedy_policy(state))\n",
    "            path.append(next_state)\n",
    "            state = next_state\n",
    "        return path\n",
    "\n",
    "\n"
   ]
  },
  {
   "cell_type": "code",
   "execution_count": 6,
   "metadata": {
    "tags": []
   },
   "outputs": [
    {
     "name": "stdout",
     "output_type": "stream",
     "text": [
      "episod 0, steps 2236\n",
      "episod 100, steps 22\n",
      "episod 200, steps 19\n",
      "episod 300, steps 19\n",
      "episod 400, steps 17\n",
      "episod 500, steps 19\n",
      "episod 600, steps 21\n",
      "episod 700, steps 17\n",
      "episod 800, steps 19\n",
      "episod 900, steps 17\n",
      "episod 1000, steps 17\n",
      "episod 1100, steps 20\n",
      "episod 1200, steps 20\n",
      "episod 1300, steps 21\n",
      "episod 1400, steps 18\n",
      "episod 1500, steps 20\n",
      "episod 1600, steps 21\n",
      "episod 1700, steps 17\n",
      "episod 1800, steps 18\n",
      "episod 1900, steps 18\n",
      "episod 2000, steps 22\n",
      "episod 2100, steps 19\n",
      "episod 2200, steps 19\n",
      "episod 2300, steps 21\n",
      "episod 2400, steps 19\n",
      "episod 2500, steps 17\n",
      "episod 2600, steps 24\n",
      "episod 2700, steps 17\n",
      "episod 2800, steps 19\n",
      "episod 2900, steps 21\n",
      "episod 3000, steps 22\n",
      "episod 3100, steps 19\n",
      "episod 3200, steps 17\n",
      "episod 3300, steps 19\n",
      "episod 3400, steps 17\n",
      "episod 3500, steps 17\n",
      "episod 3600, steps 22\n",
      "episod 3700, steps 19\n",
      "episod 3800, steps 18\n",
      "episod 3900, steps 20\n",
      "episod 4000, steps 17\n",
      "episod 4100, steps 23\n",
      "episod 4200, steps 18\n",
      "episod 4300, steps 17\n",
      "episod 4400, steps 18\n",
      "episod 4500, steps 19\n",
      "episod 4600, steps 17\n",
      "episod 4700, steps 19\n",
      "episod 4800, steps 17\n",
      "episod 4900, steps 17\n",
      "[(0, 0), (0, 1), (1, 1), (1, 2), (1, 3), (1, 4), (1, 5), (0, 5), (0, 6), (0, 7), (0, 8), (0, 9), (0, 10), (0, 11), (0, 12), (0, 13), (0, 14), (0, 15)]\n"
     ]
    },
    {
     "data": {
      "image/png": "[encoded data removed]",
      "text/plain": [
       "<Figure size 640x480 with 1 Axes>"
      ]
     },
     "metadata": {},
     "output_type": "display_data"
    },
    {
     "data": {
      "text/plain": [
       "Text(0, 0.5, 'steps')"
      ]
     },
     "execution_count": 6,
     "metadata": {},
     "output_type": "execute_result"
    },
    {
     "data": {
      "image/png": "[encoded data removed]",
      "text/plain": [
       "<Figure size 640x480 with 1 Axes>"
      ]
     },
     "metadata": {},
     "output_type": "display_data"
    }
   ],
   "source": [
    "# Example usage: SARSA\n",
    "solver = QLearningMazeSolver(rng, maze_generator.grid, startPos, goalPos, epochs=5000)\n",
    "episode_steps_SARSA = solver.solve_maze_SARSA()\n",
    "\n",
    "path = solver.get_path()\n",
    "print(path)\n",
    "# Display the maze with the learned path\n",
    "maze_generator.display(startPos, goalPos, path)\n",
    "\n",
    "plt.plot(episode_steps_SARSA)\n",
    "plt.xlabel('episode#')\n",
    "plt.ylabel('steps')"
   ]
  },
  {
   "cell_type": "code",
   "execution_count": 7,
   "metadata": {
    "tags": []
   },
   "outputs": [
    {
     "name": "stdout",
     "output_type": "stream",
     "text": [
      "episod 0, steps 2014\n",
      "episod 100, steps 163\n",
      "episod 200, steps 19\n",
      "episod 300, steps 23\n",
      "episod 400, steps 19\n",
      "episod 500, steps 17\n",
      "episod 600, steps 17\n",
      "episod 700, steps 20\n",
      "episod 800, steps 19\n",
      "episod 900, steps 17\n",
      "episod 1000, steps 21\n",
      "episod 1100, steps 17\n",
      "episod 1200, steps 19\n",
      "episod 1300, steps 19\n",
      "episod 1400, steps 17\n",
      "episod 1500, steps 18\n",
      "episod 1600, steps 19\n",
      "episod 1700, steps 17\n",
      "episod 1800, steps 18\n",
      "episod 1900, steps 22\n",
      "episod 2000, steps 20\n",
      "episod 2100, steps 21\n",
      "episod 2200, steps 20\n",
      "episod 2300, steps 17\n",
      "episod 2400, steps 21\n",
      "episod 2500, steps 17\n",
      "episod 2600, steps 21\n",
      "episod 2700, steps 17\n",
      "episod 2800, steps 20\n",
      "episod 2900, steps 19\n",
      "episod 3000, steps 18\n",
      "episod 3100, steps 25\n",
      "episod 3200, steps 17\n",
      "episod 3300, steps 21\n",
      "episod 3400, steps 17\n",
      "episod 3500, steps 18\n",
      "episod 3600, steps 21\n",
      "episod 3700, steps 17\n",
      "episod 3800, steps 17\n",
      "episod 3900, steps 17\n",
      "episod 4000, steps 25\n",
      "episod 4100, steps 18\n",
      "episod 4200, steps 17\n",
      "episod 4300, steps 17\n",
      "episod 4400, steps 20\n",
      "episod 4500, steps 20\n",
      "episod 4600, steps 18\n",
      "episod 4700, steps 17\n",
      "episod 4800, steps 18\n",
      "episod 4900, steps 18\n",
      "[(0, 0), (0, 1), (1, 1), (1, 2), (1, 3), (1, 4), (1, 5), (0, 5), (0, 6), (0, 7), (0, 8), (0, 9), (0, 10), (0, 11), (0, 12), (0, 13), (0, 14), (0, 15)]\n"
     ]
    },
    {
     "data": {
      "image/png": "[encoded data removed]",
      "text/plain": [
       "<Figure size 640x480 with 1 Axes>"
      ]
     },
     "metadata": {},
     "output_type": "display_data"
    },
    {
     "data": {
      "text/plain": [
       "Text(0, 0.5, 'steps')"
      ]
     },
     "execution_count": 7,
     "metadata": {},
     "output_type": "execute_result"
    },
    {
     "data": {
      "image/png": "[encoded data removed]",
      "text/plain": [
       "<Figure size 640x480 with 1 Axes>"
      ]
     },
     "metadata": {},
     "output_type": "display_data"
    }
   ],
   "source": [
    "# Example usage: QLearning\n",
    "solver = QLearningMazeSolver(rng, maze_generator.grid, startPos, goalPos, epochs=5000)\n",
    "episode_steps_QL = solver.solve_maze_QLearning()\n",
    "\n",
    "path = solver.get_path()\n",
    "print(path)\n",
    "# Display the maze with the learned path\n",
    "maze_generator.display(startPos, goalPos, path)\n",
    "\n",
    "plt.plot(episode_steps_QL)\n",
    "plt.xlabel('episode#')\n",
    "plt.ylabel('steps')"
   ]
  },
  {
   "cell_type": "code",
   "execution_count": null,
   "metadata": {
    "tags": []
   },
   "outputs": [
    {
     "name": "stdout",
     "output_type": "stream",
     "text": [
      "episode 0, steps 1890\n",
      "episode 100, steps 18\n",
      "episode 200, steps 23\n",
      "episode 300, steps 18\n",
      "episode 400, steps 23\n",
      "episode 500, steps 20\n",
      "episode 600, steps 21\n",
      "episode 700, steps 18\n",
      "episode 800, steps 19\n",
      "episode 900, steps 17\n",
      "episode 1000, steps 19\n",
      "episode 1100, steps 19\n",
      "episode 1200, steps 25\n",
      "episode 1300, steps 26\n",
      "episode 1400, steps 18\n",
      "episode 1500, steps 17\n",
      "episode 1600, steps 19\n",
      "episode 1700, steps 18\n"
     ]
    }
   ],
   "source": [
    "# Example usage: nStep SARSA\n",
    "solver = QLearningMazeSolver(rng, maze_generator.grid, startPos, goalPos, epochs=5000)\n",
    "episode_steps_nStep_SARSA = solver.solve_maze_nStep_SARSA(n=5) # n=1 for simple SARSA\n",
    "\n",
    "path = solver.get_path()\n",
    "print(path)\n",
    "# Display the maze with the learned path\n",
    "maze_generator.display(startPos, goalPos, path)\n",
    "\n",
    "plt.plot(episode_steps_nStep_SARSA)\n",
    "plt.xlabel('episode#')\n",
    "plt.ylabel('steps')"
   ]
  },
  {
   "cell_type": "code",
   "execution_count": null,
   "metadata": {
    "tags": []
   },
   "outputs": [],
   "source": [
    "## Randomness in policies learnt due to randomness in greedy policy (multiple greedy actions) and epsilon-greedy policy (exploration)\n",
    "# removed randomness by seed"
   ]
  }
 ],
 "metadata": {
  "kernelspec": {
   "display_name": "Python 3 (ipykernel)",
   "language": "python",
   "name": "python3"
  },
  "language_info": {
   "codemirror_mode": {
    "name": "ipython",
    "version": 3
   },
   "file_extension": ".py",
   "mimetype": "text/x-python",
   "name": "python",
   "nbconvert_exporter": "python",
   "pygments_lexer": "ipython3",
   "version": "3.11.5"
  }
 },
 "nbformat": 4,
 "nbformat_minor": 4
}
